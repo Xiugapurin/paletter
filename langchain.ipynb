{
 "cells": [
  {
   "cell_type": "code",
   "execution_count": 1,
   "id": "0fe36584",
   "metadata": {},
   "outputs": [],
   "source": [
    "from langchain_openai import ChatOpenAI\n",
    "from langchain.globals import set_verbose\n",
    "\n",
    "set_verbose(True)\n",
    "model = ChatOpenAI(model=\"gpt-3.5-turbo-0125\")"
   ]
  },
  {
   "cell_type": "code",
   "execution_count": 2,
   "id": "98cca753",
   "metadata": {},
   "outputs": [],
   "source": [
    "from langchain_core.output_parsers import StrOutputParser\n",
    "from langchain_core.prompts import ChatPromptTemplate\n",
    "\n",
    "prompt = ChatPromptTemplate.from_template(\"說出一個關於'{topic}'的笑話\")\n",
    "\n",
    "chain = prompt | model | StrOutputParser()"
   ]
  },
  {
   "cell_type": "code",
   "execution_count": 3,
   "id": "82144f9e",
   "metadata": {},
   "outputs": [
    {
     "data": {
      "text/plain": [
       "'為什麼軟體工程師總是在午夜時分工作？\\n因為他們喜歡在「黑暗中」編程！'"
      ]
     },
     "execution_count": 3,
     "metadata": {},
     "output_type": "execute_result"
    }
   ],
   "source": [
    "chain.invoke({\"topic\": \"軟體工程師\"})"
   ]
  },
  {
   "cell_type": "code",
   "execution_count": 7,
   "id": "73f99c60",
   "metadata": {},
   "outputs": [
    {
     "ename": "ValueError",
     "evalue": "Unsupported function\n\n{'type': 'array', 'items': {'type': 'object', 'properties': {'color': {'type': 'string', 'description': '日記內容所對應的顏色', 'enum': ['Red', 'Yellow', 'Blue', 'Purple', 'Orange', 'Green', 'Indigo', 'Gray'], 'default': 'Gray'}, 'content': {'type': 'string', 'description': '片段的日記內容'}}, 'required': ['color', 'content'], 'title': '顏色物件'}, 'description': '將使用者的日記內容依照情緒分類，並回傳對應的顏色及日記內容', 'title': '分類情緒'}\n\nFunctions must be passed in as Dict, pydantic.BaseModel, or Callable. If they're a dict they must either be in OpenAI function format or valid JSON schema with top-level 'title' and 'description' keys.",
     "output_type": "error",
     "traceback": [
      "\u001b[1;31m---------------------------------------------------------------------------\u001b[0m",
      "\u001b[1;31mValueError\u001b[0m                                Traceback (most recent call last)",
      "Cell \u001b[1;32mIn[7], line 70\u001b[0m\n\u001b[0;32m     33\u001b[0m model \u001b[38;5;241m=\u001b[39m ChatOpenAI(model\u001b[38;5;241m=\u001b[39m\u001b[38;5;124m\"\u001b[39m\u001b[38;5;124mgpt-3.5-turbo-0125\u001b[39m\u001b[38;5;124m\"\u001b[39m)\n\u001b[0;32m     35\u001b[0m json_schema \u001b[38;5;241m=\u001b[39m {\n\u001b[0;32m     36\u001b[0m   \u001b[38;5;124m\"\u001b[39m\u001b[38;5;124mtype\u001b[39m\u001b[38;5;124m\"\u001b[39m: \u001b[38;5;124m\"\u001b[39m\u001b[38;5;124marray\u001b[39m\u001b[38;5;124m\"\u001b[39m,\n\u001b[0;32m     37\u001b[0m   \u001b[38;5;124m\"\u001b[39m\u001b[38;5;124mitems\u001b[39m\u001b[38;5;124m\"\u001b[39m: {\n\u001b[1;32m   (...)\u001b[0m\n\u001b[0;32m     67\u001b[0m   \u001b[38;5;124m\"\u001b[39m\u001b[38;5;124mtitle\u001b[39m\u001b[38;5;124m\"\u001b[39m: \u001b[38;5;124m\"\u001b[39m\u001b[38;5;124m分類情緒\u001b[39m\u001b[38;5;124m\"\u001b[39m\n\u001b[0;32m     68\u001b[0m }\n\u001b[1;32m---> 70\u001b[0m structured_llm \u001b[38;5;241m=\u001b[39m \u001b[43mmodel\u001b[49m\u001b[38;5;241;43m.\u001b[39;49m\u001b[43mwith_structured_output\u001b[49m\u001b[43m(\u001b[49m\u001b[43mjson_schema\u001b[49m\u001b[43m)\u001b[49m\n\u001b[0;32m     71\u001b[0m few_shot_structured_llm \u001b[38;5;241m=\u001b[39m prompt \u001b[38;5;241m|\u001b[39m structured_llm\n\u001b[0;32m     72\u001b[0m response \u001b[38;5;241m=\u001b[39m few_shot_structured_llm\u001b[38;5;241m.\u001b[39minvoke(\u001b[38;5;124m\"\u001b[39m\u001b[38;5;124m今天一早出門，心情很好。工作中處理了一些複雜的代碼問題，但最終解決了。莉莉在午餐時問我對於電影的期待，我們聊得很愉快。晚上回家後，做了一些炒青菜，和“臭臭”一起度過了這個平靜的晚上。牠今天的健康狀況依然很好，我感到很欣慰。\u001b[39m\u001b[38;5;124m\"\u001b[39m)\n",
      "File \u001b[1;32md:\\Anaconda\\envs\\paletter\\lib\\site-packages\\langchain_openai\\chat_models\\base.py:1083\u001b[0m, in \u001b[0;36mBaseChatOpenAI.with_structured_output\u001b[1;34m(self, schema, method, include_raw, **kwargs)\u001b[0m\n\u001b[0;32m   1078\u001b[0m \u001b[38;5;28;01mif\u001b[39;00m schema \u001b[38;5;129;01mis\u001b[39;00m \u001b[38;5;28;01mNone\u001b[39;00m:\n\u001b[0;32m   1079\u001b[0m     \u001b[38;5;28;01mraise\u001b[39;00m \u001b[38;5;167;01mValueError\u001b[39;00m(\n\u001b[0;32m   1080\u001b[0m         \u001b[38;5;124m\"\u001b[39m\u001b[38;5;124mschema must be specified when method is \u001b[39m\u001b[38;5;124m'\u001b[39m\u001b[38;5;124mfunction_calling\u001b[39m\u001b[38;5;124m'\u001b[39m\u001b[38;5;124m. \u001b[39m\u001b[38;5;124m\"\u001b[39m\n\u001b[0;32m   1081\u001b[0m         \u001b[38;5;124m\"\u001b[39m\u001b[38;5;124mReceived None.\u001b[39m\u001b[38;5;124m\"\u001b[39m\n\u001b[0;32m   1082\u001b[0m     )\n\u001b[1;32m-> 1083\u001b[0m llm \u001b[38;5;241m=\u001b[39m \u001b[38;5;28;43mself\u001b[39;49m\u001b[38;5;241;43m.\u001b[39;49m\u001b[43mbind_tools\u001b[49m\u001b[43m(\u001b[49m\u001b[43m[\u001b[49m\u001b[43mschema\u001b[49m\u001b[43m]\u001b[49m\u001b[43m,\u001b[49m\u001b[43m \u001b[49m\u001b[43mtool_choice\u001b[49m\u001b[38;5;241;43m=\u001b[39;49m\u001b[38;5;28;43;01mTrue\u001b[39;49;00m\u001b[43m)\u001b[49m\n\u001b[0;32m   1084\u001b[0m \u001b[38;5;28;01mif\u001b[39;00m is_pydantic_schema:\n\u001b[0;32m   1085\u001b[0m     output_parser: OutputParserLike \u001b[38;5;241m=\u001b[39m PydanticToolsParser(\n\u001b[0;32m   1086\u001b[0m         tools\u001b[38;5;241m=\u001b[39m[schema], first_tool_only\u001b[38;5;241m=\u001b[39m\u001b[38;5;28;01mTrue\u001b[39;00m\n\u001b[0;32m   1087\u001b[0m     )\n",
      "File \u001b[1;32md:\\Anaconda\\envs\\paletter\\lib\\site-packages\\langchain_openai\\chat_models\\base.py:846\u001b[0m, in \u001b[0;36mBaseChatOpenAI.bind_tools\u001b[1;34m(self, tools, tool_choice, **kwargs)\u001b[0m\n\u001b[0;32m    813\u001b[0m \u001b[38;5;28;01mdef\u001b[39;00m \u001b[38;5;21mbind_tools\u001b[39m(\n\u001b[0;32m    814\u001b[0m     \u001b[38;5;28mself\u001b[39m,\n\u001b[0;32m    815\u001b[0m     tools: Sequence[Union[Dict[\u001b[38;5;28mstr\u001b[39m, Any], Type[BaseModel], Callable, BaseTool]],\n\u001b[1;32m   (...)\u001b[0m\n\u001b[0;32m    820\u001b[0m     \u001b[38;5;241m*\u001b[39m\u001b[38;5;241m*\u001b[39mkwargs: Any,\n\u001b[0;32m    821\u001b[0m ) \u001b[38;5;241m-\u001b[39m\u001b[38;5;241m>\u001b[39m Runnable[LanguageModelInput, BaseMessage]:\n\u001b[0;32m    822\u001b[0m \u001b[38;5;250m    \u001b[39m\u001b[38;5;124;03m\"\"\"Bind tool-like objects to this chat model.\u001b[39;00m\n\u001b[0;32m    823\u001b[0m \n\u001b[0;32m    824\u001b[0m \u001b[38;5;124;03m    Assumes model is compatible with OpenAI tool-calling API.\u001b[39;00m\n\u001b[1;32m   (...)\u001b[0m\n\u001b[0;32m    843\u001b[0m \u001b[38;5;124;03m            :class:`~langchain.runnable.Runnable` constructor.\u001b[39;00m\n\u001b[0;32m    844\u001b[0m \u001b[38;5;124;03m    \"\"\"\u001b[39;00m\n\u001b[1;32m--> 846\u001b[0m     formatted_tools \u001b[38;5;241m=\u001b[39m [convert_to_openai_tool(tool) \u001b[38;5;28;01mfor\u001b[39;00m tool \u001b[38;5;129;01min\u001b[39;00m tools]\n\u001b[0;32m    847\u001b[0m     \u001b[38;5;28;01mif\u001b[39;00m tool_choice:\n\u001b[0;32m    848\u001b[0m         \u001b[38;5;28;01mif\u001b[39;00m \u001b[38;5;28misinstance\u001b[39m(tool_choice, \u001b[38;5;28mstr\u001b[39m):\n\u001b[0;32m    849\u001b[0m             \u001b[38;5;66;03m# tool_choice is a tool/function name\u001b[39;00m\n",
      "File \u001b[1;32md:\\Anaconda\\envs\\paletter\\lib\\site-packages\\langchain_openai\\chat_models\\base.py:846\u001b[0m, in \u001b[0;36m<listcomp>\u001b[1;34m(.0)\u001b[0m\n\u001b[0;32m    813\u001b[0m \u001b[38;5;28;01mdef\u001b[39;00m \u001b[38;5;21mbind_tools\u001b[39m(\n\u001b[0;32m    814\u001b[0m     \u001b[38;5;28mself\u001b[39m,\n\u001b[0;32m    815\u001b[0m     tools: Sequence[Union[Dict[\u001b[38;5;28mstr\u001b[39m, Any], Type[BaseModel], Callable, BaseTool]],\n\u001b[1;32m   (...)\u001b[0m\n\u001b[0;32m    820\u001b[0m     \u001b[38;5;241m*\u001b[39m\u001b[38;5;241m*\u001b[39mkwargs: Any,\n\u001b[0;32m    821\u001b[0m ) \u001b[38;5;241m-\u001b[39m\u001b[38;5;241m>\u001b[39m Runnable[LanguageModelInput, BaseMessage]:\n\u001b[0;32m    822\u001b[0m \u001b[38;5;250m    \u001b[39m\u001b[38;5;124;03m\"\"\"Bind tool-like objects to this chat model.\u001b[39;00m\n\u001b[0;32m    823\u001b[0m \n\u001b[0;32m    824\u001b[0m \u001b[38;5;124;03m    Assumes model is compatible with OpenAI tool-calling API.\u001b[39;00m\n\u001b[1;32m   (...)\u001b[0m\n\u001b[0;32m    843\u001b[0m \u001b[38;5;124;03m            :class:`~langchain.runnable.Runnable` constructor.\u001b[39;00m\n\u001b[0;32m    844\u001b[0m \u001b[38;5;124;03m    \"\"\"\u001b[39;00m\n\u001b[1;32m--> 846\u001b[0m     formatted_tools \u001b[38;5;241m=\u001b[39m [\u001b[43mconvert_to_openai_tool\u001b[49m\u001b[43m(\u001b[49m\u001b[43mtool\u001b[49m\u001b[43m)\u001b[49m \u001b[38;5;28;01mfor\u001b[39;00m tool \u001b[38;5;129;01min\u001b[39;00m tools]\n\u001b[0;32m    847\u001b[0m     \u001b[38;5;28;01mif\u001b[39;00m tool_choice:\n\u001b[0;32m    848\u001b[0m         \u001b[38;5;28;01mif\u001b[39;00m \u001b[38;5;28misinstance\u001b[39m(tool_choice, \u001b[38;5;28mstr\u001b[39m):\n\u001b[0;32m    849\u001b[0m             \u001b[38;5;66;03m# tool_choice is a tool/function name\u001b[39;00m\n",
      "File \u001b[1;32md:\\Anaconda\\envs\\paletter\\lib\\site-packages\\langchain_core\\utils\\function_calling.py:344\u001b[0m, in \u001b[0;36mconvert_to_openai_tool\u001b[1;34m(tool)\u001b[0m\n\u001b[0;32m    342\u001b[0m \u001b[38;5;28;01mif\u001b[39;00m \u001b[38;5;28misinstance\u001b[39m(tool, \u001b[38;5;28mdict\u001b[39m) \u001b[38;5;129;01mand\u001b[39;00m tool\u001b[38;5;241m.\u001b[39mget(\u001b[38;5;124m\"\u001b[39m\u001b[38;5;124mtype\u001b[39m\u001b[38;5;124m\"\u001b[39m) \u001b[38;5;241m==\u001b[39m \u001b[38;5;124m\"\u001b[39m\u001b[38;5;124mfunction\u001b[39m\u001b[38;5;124m\"\u001b[39m \u001b[38;5;129;01mand\u001b[39;00m \u001b[38;5;124m\"\u001b[39m\u001b[38;5;124mfunction\u001b[39m\u001b[38;5;124m\"\u001b[39m \u001b[38;5;129;01min\u001b[39;00m tool:\n\u001b[0;32m    343\u001b[0m     \u001b[38;5;28;01mreturn\u001b[39;00m tool\n\u001b[1;32m--> 344\u001b[0m function \u001b[38;5;241m=\u001b[39m \u001b[43mconvert_to_openai_function\u001b[49m\u001b[43m(\u001b[49m\u001b[43mtool\u001b[49m\u001b[43m)\u001b[49m\n\u001b[0;32m    345\u001b[0m \u001b[38;5;28;01mreturn\u001b[39;00m {\u001b[38;5;124m\"\u001b[39m\u001b[38;5;124mtype\u001b[39m\u001b[38;5;124m\"\u001b[39m: \u001b[38;5;124m\"\u001b[39m\u001b[38;5;124mfunction\u001b[39m\u001b[38;5;124m\"\u001b[39m, \u001b[38;5;124m\"\u001b[39m\u001b[38;5;124mfunction\u001b[39m\u001b[38;5;124m\"\u001b[39m: function}\n",
      "File \u001b[1;32md:\\Anaconda\\envs\\paletter\\lib\\site-packages\\langchain_core\\utils\\function_calling.py:319\u001b[0m, in \u001b[0;36mconvert_to_openai_function\u001b[1;34m(function)\u001b[0m\n\u001b[0;32m    317\u001b[0m     \u001b[38;5;28;01mreturn\u001b[39;00m convert_python_function_to_openai_function(function)\n\u001b[0;32m    318\u001b[0m \u001b[38;5;28;01melse\u001b[39;00m:\n\u001b[1;32m--> 319\u001b[0m     \u001b[38;5;28;01mraise\u001b[39;00m \u001b[38;5;167;01mValueError\u001b[39;00m(\n\u001b[0;32m    320\u001b[0m         \u001b[38;5;124mf\u001b[39m\u001b[38;5;124m\"\u001b[39m\u001b[38;5;124mUnsupported function\u001b[39m\u001b[38;5;130;01m\\n\u001b[39;00m\u001b[38;5;130;01m\\n\u001b[39;00m\u001b[38;5;132;01m{\u001b[39;00mfunction\u001b[38;5;132;01m}\u001b[39;00m\u001b[38;5;130;01m\\n\u001b[39;00m\u001b[38;5;130;01m\\n\u001b[39;00m\u001b[38;5;124mFunctions must be passed in\u001b[39m\u001b[38;5;124m\"\u001b[39m\n\u001b[0;32m    321\u001b[0m         \u001b[38;5;124m\"\u001b[39m\u001b[38;5;124m as Dict, pydantic.BaseModel, or Callable. If they\u001b[39m\u001b[38;5;124m'\u001b[39m\u001b[38;5;124mre a dict they must\u001b[39m\u001b[38;5;124m\"\u001b[39m\n\u001b[0;32m    322\u001b[0m         \u001b[38;5;124m\"\u001b[39m\u001b[38;5;124m either be in OpenAI function format or valid JSON schema with top-level\u001b[39m\u001b[38;5;124m\"\u001b[39m\n\u001b[0;32m    323\u001b[0m         \u001b[38;5;124m\"\u001b[39m\u001b[38;5;124m \u001b[39m\u001b[38;5;124m'\u001b[39m\u001b[38;5;124mtitle\u001b[39m\u001b[38;5;124m'\u001b[39m\u001b[38;5;124m and \u001b[39m\u001b[38;5;124m'\u001b[39m\u001b[38;5;124mdescription\u001b[39m\u001b[38;5;124m'\u001b[39m\u001b[38;5;124m keys.\u001b[39m\u001b[38;5;124m\"\u001b[39m\n\u001b[0;32m    324\u001b[0m     )\n",
      "\u001b[1;31mValueError\u001b[0m: Unsupported function\n\n{'type': 'array', 'items': {'type': 'object', 'properties': {'color': {'type': 'string', 'description': '日記內容所對應的顏色', 'enum': ['Red', 'Yellow', 'Blue', 'Purple', 'Orange', 'Green', 'Indigo', 'Gray'], 'default': 'Gray'}, 'content': {'type': 'string', 'description': '片段的日記內容'}}, 'required': ['color', 'content'], 'title': '顏色物件'}, 'description': '將使用者的日記內容依照情緒分類，並回傳對應的顏色及日記內容', 'title': '分類情緒'}\n\nFunctions must be passed in as Dict, pydantic.BaseModel, or Callable. If they're a dict they must either be in OpenAI function format or valid JSON schema with top-level 'title' and 'description' keys."
     ]
    }
   ],
   "source": [
    "from langchain_openai import ChatOpenAI\n",
    "from langchain.globals import set_verbose\n",
    "from langchain_core.prompts import ChatPromptTemplate\n",
    "\n",
    "system = \"\"\"你是一個專業的心理學家，你擅長分析日記中所包含的情緒。 \\\n",
    "你將需要根據使用者的日記內容分析其情緒，並將其代表的顏色以及對應的內容段落，分別放進名為 \"color\" 和 \"content\" 的 key 中，並以 JSON 格式回傳。 \\\n",
    "注意：你最少需要挑選一個顏色，並且最多挑選不超過兩個顏色，請挑選日記中最具有代表性的段落。 \\\n",
    "以下是 8 種不同的情緒所對應的顏色: \\\n",
    "1. 憤怒暴躁: Red \\\n",
    "2. 快樂喜悅: Yellow \\\n",
    "3. 悲傷難過: Blue \\\n",
    "4. 恐懼害怕: Purple \\\n",
    "5. 焦慮不安: Orange \\\n",
    "6. 厭惡煩躁: Green \\\n",
    "7. 平靜祥和: Indigo \\\n",
    "8. 其他 (當日記不包含任何情緒或是沒有內容時): Gray \\\n",
    "\n",
    "以下是幾個範例:\n",
    "\n",
    "example_user: 今天的工作非常緊張，一整天都在忙碌中度過。午休時，莉莉邀請我週末一起去看電影，我感到非常開心。下班後，坐公交回家，一路上都在想著週末的計劃。回到家後，煮了一些意大利麵，和臭臭一起享用。今天牠的狀態很好，我也感到很放鬆。\n",
    "example_assistant: [{\"color\": \"Yellow\", \"content\": \"午休時，莉莉邀請我週末一起去看電影，我感到非常開心。\"}, {\"color\": \"Indigo\", \"content\": \"回到家後，煮了一些意大利麵，和臭臭一起享用。今天牠的狀態很好，我也感到很放鬆。\"}]\n",
    "\n",
    "example_user: 今天沒有發生有趣的事\n",
    "example_assistant: [{\"color\": \"Gray\", \"content\": \"今天沒有發生有趣的事\"}]\n",
    "\n",
    "example_user: (使用者沒有輸入任何內容)\n",
    "example_assistant: [{\"color\": \"Gray\", \"content\": \"\"}]\"\"\"\n"
   ]
  },
  {
   "cell_type": "code",
   "execution_count": 4,
   "id": "b5ba6582",
   "metadata": {},
   "outputs": [
    {
     "name": "stdout",
     "output_type": "stream",
     "text": [
      "[{'color': 'Orange', 'content': '今天一早出門時，感覺有些不安。工作中遇到一些困難的問題，但在與同事的共同努力下最終解決了。'}]\n"
     ]
    }
   ],
   "source": [
    "from typing import List\n",
    "from langchain_core.output_parsers import JsonOutputParser\n",
    "from langchain_core.prompts import PromptTemplate\n",
    "from langchain_core.pydantic_v1 import BaseModel, Field\n",
    "from langchain_openai import ChatOpenAI\n",
    "from langchain.globals import set_verbose\n",
    "\n",
    "set_verbose(True)\n",
    "\n",
    "class EmotionAnalysis(BaseModel):\n",
    "    color: str = Field(description=\"Emotion color based on the diary content\")\n",
    "    content: str = Field(description=\"Content of the diary representing the emotion\")\n",
    "\n",
    "class EmotionAnalysisList(BaseModel):\n",
    "    colors: List[EmotionAnalysis]  \n",
    "\n",
    "model = ChatOpenAI(model=\"gpt-3.5-turbo-0125\")\n",
    "\n",
    "\n",
    "parser = JsonOutputParser(pydantic_object=EmotionAnalysisList)\n",
    "\n",
    "prompt = PromptTemplate(\n",
    "    template=\"\"\"你是一個專業的心理學家，你擅長分析日記中所包含的情緒。 \\\n",
    "                你需要根據使用者的日記內容分析其情緒，並挑選其代表的顏色以及對應的內容段落。 \\\n",
    "                注意：每個段落不要超過 100 字，同時不要回傳日記以外的內容。 \\\n",
    "                限制：你最少需要挑選一個顏色，並且最多挑選不超過兩個顏色，請挑選日記中最具有代表性的段落。 \\\n",
    "                以下是 8 種不同的情緒所對應的顏色: \\\n",
    "                1. 憤怒暴躁: Red \\\n",
    "                2. 快樂喜悅: Yellow \\\n",
    "                3. 悲傷難過: Blue \\\n",
    "                4. 恐懼害怕: Purple \\\n",
    "                5. 焦慮不安: Orange \\\n",
    "                6. 厭惡煩躁: Green \\\n",
    "                7. 平靜祥和: Indigo \\\n",
    "                8. 其他 (當日記不包含任何情緒或是沒有內容時): Gray \\\n",
    "\n",
    "                {format_instructions}\n",
    "\n",
    "                {query}\n",
    "            \"\"\",\n",
    "    input_variables=[\"query\"],\n",
    "    partial_variables={\"format_instructions\": parser.get_format_instructions()},\n",
    ")\n",
    "\n",
    "chain = prompt | model | parser\n",
    "\n",
    "diary_entry = \"今天一早出門時，感覺有些不安。工作中遇到一些困難的問題，但在與同事的共同努力下最終解決了。\"\n",
    "output = chain.invoke({\"query\": diary_entry})\n",
    "\n",
    "print(output['colors'][:2])\n"
   ]
  },
  {
   "cell_type": "code",
   "execution_count": null,
   "id": "78c9132e",
   "metadata": {},
   "outputs": [
    {
     "name": "stdout",
     "output_type": "stream",
     "text": [
      "{'emotion_colors': [{'color': 'Gray', 'content': 'Today is a boring day.'}]}\n"
     ]
    }
   ],
   "source": [
    "from typing import List\n",
    "from langchain_core.output_parsers import JsonOutputParser\n",
    "from langchain_core.prompts import PromptTemplate\n",
    "from langchain_core.pydantic_v1 import BaseModel, Field\n",
    "from langchain_openai import ChatOpenAI\n",
    "from langchain.globals import set_verbose\n",
    "\n",
    "set_verbose(True)\n",
    "\n",
    "class EmotionAnalysis(BaseModel):\n",
    "    color: str = Field(description=\"Emotion color based on the diary content\")\n",
    "    content: str = Field(description=\"Content of the diary representing the emotion\")\n",
    "\n",
    "class EmotionAnalysisList(BaseModel):\n",
    "    emotion_colors: List[EmotionAnalysis]  \n",
    "\n",
    "model = ChatOpenAI(model=\"gpt-3.5-turbo-0125\")\n",
    "\n",
    "\n",
    "parser = JsonOutputParser(pydantic_object=EmotionAnalysisList)\n",
    "\n",
    "prompt = PromptTemplate(\n",
    "    template=\"\"\"You are a professional psychologist specializing in analyzing emotions contained in diaries.\\\n",
    "        Based on the user's diary content, you need to analyze their emotions and place the representative colors and corresponding content paragraphs into the keys named \"color\" and \"content\" respectively, and return it in JSON format.\\\n",
    "        Note: You must select at least one color and no more than two colors. Please select the most representative paragraphs in the diary.\\\n",
    "Here are the colors corresponding to 8 different emotions:\n",
    "1. Anger/Irritability: Red\n",
    "2. Happiness/Joy: Yellow\n",
    "3. Sadness: Blue\n",
    "4. Fear: Purple\n",
    "5. Anxiety: Orange\n",
    "6. Disgust/Irritation: Green\n",
    "7. Calm/Peacefulness: Indigo\n",
    "8. Other (when the diary does not contain any emotions or has no content): Gray\n",
    "\n",
    "{format_instructions}\n",
    "\n",
    "{query}\"\"\",\n",
    "    input_variables=[\"query\"],\n",
    "    partial_variables={\"format_instructions\": parser.get_format_instructions()},\n",
    ")\n",
    "\n",
    "chain = prompt | model | parser\n",
    "\n",
    "diary_entry = \"今天是無聊的一天\"\n",
    "output = chain.invoke({\"query\": diary_entry})\n",
    "\n",
    "print(output)\n"
   ]
  }
 ],
 "metadata": {
  "kernelspec": {
   "display_name": "paletter",
   "language": "python",
   "name": "python3"
  },
  "language_info": {
   "codemirror_mode": {
    "name": "ipython",
    "version": 3
   },
   "file_extension": ".py",
   "mimetype": "text/x-python",
   "name": "python",
   "nbconvert_exporter": "python",
   "pygments_lexer": "ipython3",
   "version": "3.10.14"
  }
 },
 "nbformat": 4,
 "nbformat_minor": 5
}
